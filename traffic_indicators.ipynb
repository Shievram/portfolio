{
 "cells": [
  {
   "cell_type": "markdown",
   "metadata": {},
   "source": [
    "# Westbound traffic on the I-94 Interstate Highway"
   ]
  },
  {
   "cell_type": "markdown",
   "metadata": {},
   "source": [
    "The goal of this analysis is to determine a few indicators of heavy traffic on I-94. These indicators can be weather type, time of the day, time of the week, etc."
   ]
  },
  {
   "cell_type": "code",
   "execution_count": null,
   "metadata": {
    "scrolled": true
   },
   "outputs": [],
   "source": [
    "#Read dataset\n",
    "import pandas as pd\n",
    "traffic = pd.read_csv('Metro_Interstate_Traffic_Volume.csv')\n",
    "print(traffic.head(5))\n",
    "print(traffic.tail(5))"
   ]
  },
  {
   "cell_type": "code",
   "execution_count": null,
   "metadata": {
    "scrolled": true
   },
   "outputs": [],
   "source": [
    "traffic.info()"
   ]
  },
  {
   "cell_type": "markdown",
   "metadata": {},
   "source": [
    "From the above, we can see that there are 9 columns in the dataset."
   ]
  },
  {
   "cell_type": "markdown",
   "metadata": {},
   "source": [
    "# Analyzing traffic data"
   ]
  },
  {
   "cell_type": "markdown",
   "metadata": {},
   "source": [
    "We will plot a histogram to visualize the distribution of the traffic volume column."
   ]
  },
  {
   "cell_type": "code",
   "execution_count": null,
   "metadata": {},
   "outputs": [],
   "source": [
    "import matplotlib.pyplot as plt\n",
    "%matplotlib inline\n",
    "\n",
    "traffic['traffic_volume'].plot.hist()"
   ]
  },
  {
   "cell_type": "code",
   "execution_count": null,
   "metadata": {
    "scrolled": true
   },
   "outputs": [],
   "source": [
    "traffic['traffic_volume'].describe()"
   ]
  },
  {
   "cell_type": "markdown",
   "metadata": {},
   "source": [
    "Based on the distribution above:\n",
    "\n",
    "1. About 25% of the time, there were 1,193 cars or fewer passing the station each hour — this probably occurs during the night, or when a road is under construction.\n",
    "2. About 75% of the time, the traffic volume was 4,933 cars or fewer. The remaining 25% of the time, the traffic volume exceeded 4,933 cars."
   ]
  },
  {
   "cell_type": "markdown",
   "metadata": {},
   "source": [
    "# Traffic volume: Day vs Night"
   ]
  },
  {
   "cell_type": "markdown",
   "metadata": {},
   "source": [
    "Previously, we have determined that there is a possibility that nighttime and daytime might influence traffic volume. We'll start by dividing the dataset into two parts:\n",
    "\n",
    "1. Daytime data: hours from 7 a.m. to 7 p.m. (12 hours) \n",
    "2. Nighttime data: hours from 7 p.m. to 7 a.m. (12 hours)"
   ]
  },
  {
   "cell_type": "code",
   "execution_count": null,
   "metadata": {},
   "outputs": [],
   "source": [
    "traffic['date_time'] = pd.to_datetime(traffic['date_time'])\n",
    "print(traffic['date_time'])"
   ]
  },
  {
   "cell_type": "code",
   "execution_count": null,
   "metadata": {},
   "outputs": [],
   "source": [
    "traffic['date_time'].dt.hour"
   ]
  },
  {
   "cell_type": "code",
   "execution_count": null,
   "metadata": {},
   "outputs": [],
   "source": [
    "daytime = traffic[(traffic['date_time'].dt.hour >= 7) & (traffic['date_time'].dt.hour < 19)]\n",
    "print(daytime)"
   ]
  },
  {
   "cell_type": "code",
   "execution_count": null,
   "metadata": {},
   "outputs": [],
   "source": [
    "nighttime = traffic[((traffic['date_time'].dt.hour >= 19) & (traffic['date_time'].dt.hour <= 23)) | ((traffic['date_time'].dt.hour >= 0) & (traffic['date_time'].dt.hour < 7))]\n",
    "print(nighttime)"
   ]
  },
  {
   "cell_type": "code",
   "execution_count": null,
   "metadata": {
    "scrolled": false
   },
   "outputs": [],
   "source": [
    "#Plot histograms fro both day and night\n",
    "plt.figure(figsize=(10,4))\n",
    "\n",
    "plt.subplot(1, 2, 1)\n",
    "plt.hist(daytime['traffic_volume'])\n",
    "plt.title('Daytime Traffic')\n",
    "plt.xlabel('Traffic Volume')\n",
    "plt.ylabel('Frequency')\n",
    "\n",
    "plt.subplot(1, 2, 2)\n",
    "plt.hist(nighttime['traffic_volume'])\n",
    "plt.title('Nighttime Traffic')\n",
    "plt.xlabel('Traffic Volume')\n",
    "plt.ylabel('Frequency')"
   ]
  },
  {
   "cell_type": "markdown",
   "metadata": {},
   "source": [
    "Based on both plots:\n",
    "\n",
    "1. Both plots have a skewed distribution.\n",
    "2. Traffic at night is light, but our goal is to find indicators of heavy traffic, therefore, nighttime data is not reliable."
   ]
  },
  {
   "cell_type": "markdown",
   "metadata": {},
   "source": [
    "# Time indicators"
   ]
  },
  {
   "cell_type": "markdown",
   "metadata": {},
   "source": [
    "One of the possible indicators of heavy traffic is time. There might be more people on the road in a certain month, on a certain day, or at a certain time of the day.\n",
    "\n",
    "We're going to look at a few line plots showing how the traffic volume changed according to the following parameters:\n",
    "\n",
    "1. Month\n",
    "2. Day of the week\n",
    "3. Time of day"
   ]
  },
  {
   "cell_type": "code",
   "execution_count": null,
   "metadata": {},
   "outputs": [],
   "source": [
    "daytime['traffic_volume'].describe()"
   ]
  },
  {
   "cell_type": "code",
   "execution_count": null,
   "metadata": {
    "scrolled": true
   },
   "outputs": [],
   "source": [
    "nighttime['traffic_volume'].describe()"
   ]
  },
  {
   "cell_type": "markdown",
   "metadata": {},
   "source": [
    "From the above, we can clearly see that traffic volume is much lower during the night."
   ]
  },
  {
   "cell_type": "code",
   "execution_count": null,
   "metadata": {},
   "outputs": [],
   "source": [
    "daytime['month'] = daytime['date_time'].dt.month #traffic volume for each month \n",
    "by_month = daytime.groupby('month').mean() #groups traffic volume by month \n",
    "by_month['traffic_volume']"
   ]
  },
  {
   "cell_type": "code",
   "execution_count": null,
   "metadata": {
    "scrolled": true
   },
   "outputs": [],
   "source": [
    "by_month['traffic_volume'].plot.line(x='Month',y='Traffic Volume')\n",
    "plt.show()"
   ]
  },
  {
   "cell_type": "markdown",
   "metadata": {},
   "source": [
    "The line plot shows that the highest traffic volume was during the months of August and November and experienced the lowest volume in December."
   ]
  },
  {
   "cell_type": "code",
   "execution_count": null,
   "metadata": {},
   "outputs": [],
   "source": [
    "daytime['dayofweek'] = daytime['date_time'].dt.dayofweek #traffic volume for each day\n",
    "by_dayofweek = daytime.groupby('dayofweek').mean()\n",
    "by_dayofweek['traffic_volume']  # 0 is Monday, 6 is Sunday"
   ]
  },
  {
   "cell_type": "code",
   "execution_count": null,
   "metadata": {
    "scrolled": true
   },
   "outputs": [],
   "source": [
    "by_dayofweek['traffic_volume'].plot.line(x='Day',y='Traffic Volume')\n",
    "plt.show()"
   ]
  },
  {
   "cell_type": "markdown",
   "metadata": {},
   "source": [
    "Traffic volume is higher during business days compared to weekends. This is because on business days people are commuting to and from work whereas on weekends people don't work as often."
   ]
  },
  {
   "cell_type": "code",
   "execution_count": null,
   "metadata": {},
   "outputs": [],
   "source": [
    "daytime['hour'] = daytime['date_time'].dt.hour #hourly traffic volume\n",
    "bussiness_days = daytime.copy()[daytime['dayofweek'] <= 4] # 4 == Friday\n",
    "weekend = daytime.copy()[daytime['dayofweek'] >= 5] # 5 == Saturday\n",
    "by_hour_business = bussiness_days.groupby('hour').mean()\n",
    "by_hour_weekend = weekend.groupby('hour').mean()\n",
    "\n",
    "print(by_hour_business['traffic_volume'])\n",
    "print(by_hour_weekend['traffic_volume'])"
   ]
  },
  {
   "cell_type": "code",
   "execution_count": null,
   "metadata": {
    "scrolled": true
   },
   "outputs": [],
   "source": [
    "#Plot line plots for both weekdays and weekends\n",
    "plt.figure(figsize=(10,4))\n",
    "\n",
    "plt.subplot(1,2,1)\n",
    "plt.plot(by_hour_business['traffic_volume'])\n",
    "plt.title('Weekday Traffic')\n",
    "plt.xlabel('Hour')\n",
    "plt.ylabel('Traffic Volume')\n",
    "\n",
    "plt.subplot(1,2,2)\n",
    "plt.plot(by_hour_weekend['traffic_volume'])\n",
    "plt.title('Weekend Traffic')\n",
    "plt.xlabel('Hour')\n",
    "plt.ylabel('Traffic Volume')"
   ]
  },
  {
   "cell_type": "markdown",
   "metadata": {},
   "source": [
    "We can now summarize that traffic volume is higher during business days rather than on weekends. Furthermore on weekdays traffic volume is highest at 7am and 4pm when people are commuting to work in the morning and leaving in the evening."
   ]
  },
  {
   "cell_type": "code",
   "execution_count": null,
   "metadata": {
    "scrolled": true
   },
   "outputs": [],
   "source": [
    "daytime.corr()['traffic_volume']"
   ]
  },
  {
   "cell_type": "markdown",
   "metadata": {},
   "source": [
    "# Weather indicators"
   ]
  },
  {
   "cell_type": "markdown",
   "metadata": {},
   "source": [
    "Another possible indicator of heavy traffic is weather. The dataset provides us with a few useful columns about weather: temp, rain_1h, snow_1h, clouds_all, weather_main, weather_description."
   ]
  },
  {
   "cell_type": "code",
   "execution_count": null,
   "metadata": {
    "scrolled": true
   },
   "outputs": [],
   "source": [
    "daytime.plot.scatter(x='traffic_volume',y='temp')"
   ]
  },
  {
   "cell_type": "markdown",
   "metadata": {},
   "source": [
    "There is no reliable indicator of heavy traffic based on this scatter plot. To see if we can find more useful data, we'll look next at the categorical weather-related columns: weather_main and weather_description."
   ]
  },
  {
   "cell_type": "markdown",
   "metadata": {},
   "source": [
    "# Weather types"
   ]
  },
  {
   "cell_type": "markdown",
   "metadata": {},
   "source": [
    "We're going to calculate the average traffic volume associated with each unique value in these two columns. We've already calculated the values for you — we grouped the data by weather_main and weather_description while using the mean as an aggregate function."
   ]
  },
  {
   "cell_type": "code",
   "execution_count": null,
   "metadata": {},
   "outputs": [],
   "source": [
    "by_weather_main = daytime.groupby('weather_main').mean()\n",
    "by_weather_description = daytime.groupby('weather_description').mean()"
   ]
  },
  {
   "cell_type": "code",
   "execution_count": null,
   "metadata": {
    "scrolled": true
   },
   "outputs": [],
   "source": [
    "by_weather_main['traffic_volume'].plot.barh()"
   ]
  },
  {
   "cell_type": "code",
   "execution_count": null,
   "metadata": {
    "scrolled": true
   },
   "outputs": [],
   "source": [
    "by_weather_description['traffic_volume'].plot.barh(figsize=(7,10))"
   ]
  },
  {
   "cell_type": "markdown",
   "metadata": {},
   "source": [
    "# Conclusion"
   ]
  },
  {
   "cell_type": "markdown",
   "metadata": {},
   "source": [
    "In this project, we tried to find a few indicators of heavy traffic on the I-94 Interstate highway. We managed to find two types of indicators:\n",
    "\n",
    "1. Time indicators\n",
    "\n",
    "   a) The traffic is usually heavier during warm months (March–October) compared to cold months (November–February).\n",
    "   b) The traffic is usually heavier on business days compared to the weekends.\n",
    "   c) On business days, the rush hours are around 7 and 16.\n",
    "\n",
    "2. Weather indicators\n",
    "\n",
    "   a) Shower snow\n",
    "   b) Light rain and snow\n",
    "   c) Proximity thunderstorm with drizzle"
   ]
  }
 ],
 "metadata": {
  "kernelspec": {
   "display_name": "Python 3",
   "language": "python",
   "name": "python3"
  },
  "language_info": {
   "codemirror_mode": {
    "name": "ipython",
    "version": 3
   },
   "file_extension": ".py",
   "mimetype": "text/x-python",
   "name": "python",
   "nbconvert_exporter": "python",
   "pygments_lexer": "ipython3",
   "version": "3.8.2"
  }
 },
 "nbformat": 4,
 "nbformat_minor": 4
}
